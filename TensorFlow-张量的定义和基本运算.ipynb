{
 "cells": [
  {
   "cell_type": "markdown",
   "id": "e22d5017",
   "metadata": {},
   "source": [
    "TensorFlow-张量的定义和基本运算"
   ]
  },
  {
   "cell_type": "code",
   "execution_count": 1,
   "id": "d7b5a75e",
   "metadata": {},
   "outputs": [],
   "source": [
    "#导入TensorFlow\n",
    "import tensorflow as tf"
   ]
  },
  {
   "cell_type": "code",
   "execution_count": 2,
   "id": "fef73f64",
   "metadata": {},
   "outputs": [],
   "source": [
    "#张量的定义\n",
    "\n",
    "#定义一个随机数（标量）\n",
    "random_float=tf.random.uniform(shape=())\n",
    "\n",
    "#定义一个有2个元素的零向量\n",
    "zero_vector=tf.zeros(shape=(2))\n",
    "\n",
    "#定义两个2×2的常量矩阵\n",
    "A=tf.constant([[1.,2.],[3.,4.]])\n",
    "B=tf.constant([[5.,6.],[7.,8.]])"
   ]
  },
  {
   "cell_type": "code",
   "execution_count": 3,
   "id": "a4ae2465",
   "metadata": {},
   "outputs": [
    {
     "name": "stdout",
     "output_type": "stream",
     "text": [
      "(2, 2)\n",
      "<dtype: 'float32'>\n",
      "[[1. 2.]\n",
      " [3. 4.]]\n"
     ]
    }
   ],
   "source": [
    "#查看矩阵A的形状、和值\n",
    "\n",
    "#矩阵A的形状\n",
    "print(A.shape)\n",
    "\n",
    "#矩阵A的类型\n",
    "print(A.dtype)  \n",
    "\n",
    "#矩阵A的值\n",
    "print(A.numpy())"
   ]
  },
  {
   "cell_type": "code",
   "execution_count": 4,
   "id": "57bf8b55",
   "metadata": {},
   "outputs": [
    {
     "name": "stdout",
     "output_type": "stream",
     "text": [
      "tf.Tensor(\n",
      "[[ 6.  8.]\n",
      " [10. 12.]], shape=(2, 2), dtype=float32)\n",
      "tf.Tensor(\n",
      "[[19. 22.]\n",
      " [43. 50.]], shape=(2, 2), dtype=float32)\n"
     ]
    }
   ],
   "source": [
    "#计算矩阵A和B的和\n",
    "C=tf.add(A, B)\n",
    "print(C)\n",
    "\n",
    "#计算矩阵A和B的乘积\n",
    "D=tf.matmul(A, B) \n",
    "print(D)"
   ]
  }
 ],
 "metadata": {
  "kernelspec": {
   "display_name": "Python 3",
   "language": "python",
   "name": "python3"
  },
  "language_info": {
   "codemirror_mode": {
    "name": "ipython",
    "version": 3
   },
   "file_extension": ".py",
   "mimetype": "text/x-python",
   "name": "python",
   "nbconvert_exporter": "python",
   "pygments_lexer": "ipython3",
   "version": "3.8.8"
  }
 },
 "nbformat": 4,
 "nbformat_minor": 5
}
