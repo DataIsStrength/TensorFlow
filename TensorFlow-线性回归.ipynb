{
 "cells": [
  {
   "cell_type": "markdown",
   "id": "63dd012f",
   "metadata": {},
   "source": [
    "TensorFlow-线性回归"
   ]
  },
  {
   "cell_type": "code",
   "execution_count": 1,
   "id": "2804c004",
   "metadata": {},
   "outputs": [],
   "source": [
    "#导入TensorFlow\n",
    "import tensorflow as tf"
   ]
  },
  {
   "cell_type": "code",
   "execution_count": 2,
   "id": "3fdbc414",
   "metadata": {},
   "outputs": [
    {
     "name": "stdout",
     "output_type": "stream",
     "text": [
      "权重优化结果：\n",
      " <tf.Variable 'Variable:0' shape=(3, 1) dtype=float32, numpy=\n",
      "array([[0.8314104],\n",
      "       [0.8330855],\n",
      "       [0.8340865]], dtype=float32)>\n",
      "偏置优化结果：\n",
      " <tf.Variable 'Variable:0' shape=(1, 1) dtype=float32, numpy=array([[0.8380569]], dtype=float32)>\n"
     ]
    }
   ],
   "source": [
    "#输入样本数据\n",
    "#输入特征值\n",
    "X=tf.constant([[1.0,2.0,3.0],[4.0,5.0,6.0]])\n",
    "#输入目标值\n",
    "y=tf.constant([[10.0],[20.0]])\n",
    "\n",
    "#定义参数变量\n",
    "#定义权重，初始化为零向量\n",
    "w=tf.Variable(tf.zeros([3,1]))\n",
    "#定义偏置，初始化为0\n",
    "b=tf.Variable(tf.zeros([1,1]))\n",
    "#定义参数向量\n",
    "variables=[w,b]\n",
    "\n",
    "#调用Adam优化器，设置学习率为0.01\n",
    "optimizer=tf.keras.optimizers.Adam(learning_rate=0.01)\n",
    "\n",
    "#梯度下降，迭代次数为100\n",
    "for i in range(100):\n",
    "    with tf.GradientTape() as tape:\n",
    "        #定义预测值\n",
    "        y_pred=tf.matmul(X,w)+b\n",
    "        #定义损失函数\n",
    "        loss=tf.reduce_mean(tf.square(y_pred-y))\n",
    "    #计算损失函数对参数向量的梯度\n",
    "    grads=tape.gradient(loss,variables)\n",
    "    #将梯度和参数向量输入优化器\n",
    "    optimizer.apply_gradients(grads_and_vars=zip(grads,variables))\n",
    "\n",
    "#打印结果\n",
    "print('权重优化结果：\\n',w)\n",
    "print('偏置优化结果：\\n',b)"
   ]
  },
  {
   "cell_type": "code",
   "execution_count": 3,
   "id": "f9f9a4c9",
   "metadata": {},
   "outputs": [
    {
     "name": "stdout",
     "output_type": "stream",
     "text": [
      "权重优化结果：\n",
      " <tf.Variable 'linear/dense/kernel:0' shape=(3, 1) dtype=float32, numpy=\n",
      "array([[0.40784496],\n",
      "       [1.191065  ],\n",
      "       [1.9742855 ]], dtype=float32)>\n",
      "偏置优化结果：\n",
      " <tf.Variable 'linear/dense/bias:0' shape=(1,) dtype=float32, numpy=array([0.78322077], dtype=float32)>\n"
     ]
    }
   ],
   "source": [
    "#定义线性回归的决策函数（继承自tf.keras.Model类）\n",
    "class Linear(tf.keras.Model):\n",
    "    #初始化变量\n",
    "    def __init__(self):\n",
    "        super().__init__()\n",
    "        #初始化层\n",
    "        self.dense=tf.keras.layers.Dense(\n",
    "            #输出张量维度为1\n",
    "            units=1,\n",
    "            #不使用激活函数（线性激活函数）\n",
    "            activation=None,\n",
    "            #引入偏置\n",
    "            use_bias=True,\n",
    "            #权重向量初始化为零向量\n",
    "            kernel_initializer=tf.zeros_initializer(),\n",
    "            #偏置初始化为0\n",
    "            bias_initializer=tf.zeros_initializer()\n",
    "        )\n",
    "    #定义call函数调用层\n",
    "    def call(self,input):\n",
    "        output=self.dense(input)\n",
    "        return output\n",
    "\n",
    "#实例化模型\n",
    "model=Linear()\n",
    "#调用SGD优化器，设置学习率为0.01\n",
    "optimizer=tf.keras.optimizers.SGD(learning_rate=0.01)\n",
    "\n",
    "#梯度下降，迭代次数为100\n",
    "for i in range(100):\n",
    "    with tf.GradientTape() as tape:\n",
    "        #调用模型来定义预测值\n",
    "        y_pred=model(X)\n",
    "        #定义损失函数\n",
    "        loss=tf.reduce_mean(tf.square(y_pred-y))\n",
    "    #计算损失函数对变量（参数向量和偏置）的梯度\n",
    "    grads=tape.gradient(loss,model.variables)\n",
    "    #将梯度和参数向量输入优化器\n",
    "    optimizer.apply_gradients(grads_and_vars=zip(grads,model.variables))\n",
    "\n",
    "#打印结果\n",
    "print('权重优化结果：\\n',model.variables[0])\n",
    "print('偏置优化结果：\\n',model.variables[1])"
   ]
  }
 ],
 "metadata": {
  "kernelspec": {
   "display_name": "Python 3",
   "language": "python",
   "name": "python3"
  },
  "language_info": {
   "codemirror_mode": {
    "name": "ipython",
    "version": 3
   },
   "file_extension": ".py",
   "mimetype": "text/x-python",
   "name": "python",
   "nbconvert_exporter": "python",
   "pygments_lexer": "ipython3",
   "version": "3.8.8"
  }
 },
 "nbformat": 4,
 "nbformat_minor": 5
}
